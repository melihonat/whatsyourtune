{
 "cells": [
  {
   "cell_type": "code",
   "execution_count": null,
   "id": "1c5c5fb9",
   "metadata": {},
   "outputs": [],
   "source": [
    "import cv2\n",
    "import numpy as np\n",
    "from tensorflow.keras.models import load_model\n",
    "import time"
   ]
  },
  {
   "cell_type": "code",
   "execution_count": 7,
   "id": "bd9dbb4e",
   "metadata": {},
   "outputs": [
    {
     "name": "stderr",
     "output_type": "stream",
     "text": [
      "WARNING:absl:At this time, the v2.11+ optimizer `tf.keras.optimizers.Adam` runs slowly on M1/M2 Macs, please use the legacy Keras optimizer instead, located at `tf.keras.optimizers.legacy.Adam`.\n"
     ]
    },
    {
     "name": "stdout",
     "output_type": "stream",
     "text": [
      "1/1 [==============================] - 0s 43ms/step\n",
      "1/1 [==============================] - 0s 8ms/step\n"
     ]
    }
   ],
   "source": [
    "face_cascade = cv2.CascadeClassifier(cv2.data.haarcascades + 'haarcascade_frontalface_default.xml')\n",
    "loaded_model = load_model('../Emotion Detection/emotion_model.h5')\n",
    "\n",
    "# Emotion indices to Labels mappen\n",
    "emotion_labels = {0: 'Angry', 1: 'Disgust', 2: 'Fear', 3: 'Happy', 4: 'Sad', 5: 'Surprise', 6: 'Neutral'}\n",
    "\n",
    "# Webcam-Verbindung herstellen (Hier Webcam-Nummer eingeben, z.B. 0, 1, 2...)\n",
    "cap = cv2.VideoCapture(0)\n",
    "\n",
    "update_interval = 2 # Update every 2 seconds\n",
    "last_update_time = time.time()\n",
    "predicted_label=''\n",
    "last_cropped_frame = None\n",
    "\n",
    "while True:\n",
    "    ret, frame = cap.read()\n",
    "    \n",
    "    frame_gray = cv2.cvtColor(frame, cv2.COLOR_BGR2GRAY) # Zu grayscale konvertieren (weil Trainingsdaten auch grayscale waren)\n",
    "    \n",
    "    # Face detection\n",
    "    faces = face_cascade.detectMultiScale(frame_gray, minNeighbors=5, minSize=(30, 30))\n",
    "    \n",
    "    if len(faces) > 0:\n",
    "        # Erstes erkanntes Gesicht speichern\n",
    "        x, y, w, h = faces[0]\n",
    "        \n",
    "        # Erkanntes Gesicht als neuen Frame ausgeben\n",
    "        frame_cropped = frame[y:y+h, x:x+w]\n",
    "        \n",
    "        # Frame resize\n",
    "        frame_small = cv2.resize(frame_cropped, (48, 48)) # Bild muss input shape matchen\n",
    "        \n",
    "        frame_small_gray = cv2.cvtColor(frame_small, cv2.COLOR_BGR2GRAY) # Convert zu Grayscale\n",
    "        frame_small_gray = frame_small_gray.astype('float32') / 255.0  # Pixelwerte auf den Bereich 0-1 normalisieren\n",
    "        frame_small_gray = np.expand_dims(frame_small_gray, axis=0) # Batch dimension hinzufügen\n",
    "        \n",
    "        # Emotionsprediction nach bestimmter Zeit updaten\n",
    "        current_time = time.time()\n",
    "        if current_time - last_update_time > update_interval:\n",
    "            # Prediction testen\n",
    "            prediction = loaded_model.predict(frame_small_gray.reshape(1, 48, 48, 1))\n",
    "            \n",
    "            # Vorhergesehenes Label holen\n",
    "            predicted_label = emotion_labels[np.argmax(prediction)]\n",
    "            \n",
    "            # Update time resetten und den Frame holen um ihn anzuzeigen\n",
    "            last_update_time = current_time\n",
    "            last_cropped_frame = frame_cropped\n",
    "    \n",
    "    for (x, y, w, h) in faces:       \n",
    "        cv2.rectangle(frame, (x, y), (x+w, y+h), (0, 0, 255), 2)\n",
    "        \n",
    "    frame = cv2.resize(frame, (800, 600))\n",
    "    \n",
    "    # Prediction displayen (https://www.geeksforgeeks.org/python-opencv-cv2-puttext-method/)\n",
    "    cv2.putText(frame, f'Emotion: {predicted_label}', (10, 30), cv2.FONT_HERSHEY_SIMPLEX, 1, 255, 2)\n",
    "    \n",
    "    # Den zuletzt genommenen Frame displayen\n",
    "    if last_cropped_frame is not None:\n",
    "        frame[50:250, 20:220] = cv2.resize(last_cropped_frame, (200, 200))\n",
    "        \n",
    "    cv2.imshow('Emotions-Prediction', frame)\n",
    "    cv2.namedWindow('Emotions-Prediction', cv2.WINDOW_NORMAL)\n",
    "    cv2.resizeWindow('Emotions-Prediction', 800, 600)\n",
    "    \n",
    "    # Break loop wenn B gedrückt wird\n",
    "    if cv2.waitKey(1) & 0xFF == ord('b'):\n",
    "        break\n",
    "        \n",
    "# Fenster schließen\n",
    "cap.release()\n",
    "cv2.destroyAllWindows()"
   ]
  }
 ],
 "metadata": {
  "kernelspec": {
   "display_name": "Python 3 (ipykernel)",
   "language": "python",
   "name": "python3"
  },
  "language_info": {
   "codemirror_mode": {
    "name": "ipython",
    "version": 3
   },
   "file_extension": ".py",
   "mimetype": "text/x-python",
   "name": "python",
   "nbconvert_exporter": "python",
   "pygments_lexer": "ipython3",
   "version": "3.7.9"
  }
 },
 "nbformat": 4,
 "nbformat_minor": 5
}
