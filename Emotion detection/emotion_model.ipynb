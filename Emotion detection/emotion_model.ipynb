{
 "cells": [
  {
   "cell_type": "code",
   "execution_count": null,
   "id": "7ba43b05",
   "metadata": {},
   "outputs": [],
   "source": [
    "import numpy as np\n",
    "import pandas as pd\n",
    "from sklearn.model_selection import train_test_split\n",
    "from sklearn.preprocessing import LabelEncoder\n",
    "from tensorflow.keras import layers, models, callbacks\n",
    "import matplotlib.pyplot as plt\n",
    "from tensorflow.keras.preprocessing.image import ImageDataGenerator"
   ]
  },
  {
   "cell_type": "code",
   "execution_count": null,
   "id": "5e7a8c69",
   "metadata": {
    "scrolled": true
   },
   "outputs": [],
   "source": [
    "fer2013 = '../archive/fer2013.csv'\n",
    "data = pd.read_csv(fer2013)\n",
    "\n",
    "# Extract pixels and labels\n",
    "images = data['pixels'].tolist()\n",
    "labels = data['emotion'].tolist()\n",
    "\n",
    "# Re-structure them to numpy arrays\n",
    "images = np.array([list(map(int, pixel.split())) for pixel in images], dtype='float32') # Datentyp zu float32 wechseln, um später Normalisierung zu ermöglichen\n",
    "labels = np.array(labels)\n",
    "\n",
    "# Normalizing pixels\n",
    "images/= 255.0\n",
    "\n",
    "# Reshaping to (48, 48, 1)\n",
    "images = images.reshape (-1, 48, 48, 1)\n",
    "\n",
    "# 80% train set, 10% validation set, 10% test set\n",
    "X_train, X_temp, y_train, y_temp = train_test_split(images, labels, test_size=0.2, random_state=42)\n",
    "X_val, X_test, y_val, y_test = train_test_split(X_temp, y_temp, test_size=0.5, random_state=42)\n",
    "\n",
    "print(f'Train set shape: {X_train.shape}, {y_train.shape}')\n",
    "print(f'Validation set shape: {X_val.shape}, {y_val.shape}')\n",
    "print(f'Test set shape: {X_test.shape}, {y_test.shape}')"
   ]
  },
  {
   "cell_type": "code",
   "execution_count": null,
   "id": "14c46233",
   "metadata": {},
   "outputs": [],
   "source": [
    "# Defining a CNN model (Quelle: https://www.tensorflow.org/tutorials/images/cnn)\n",
    "\n",
    "model = models.Sequential()\n",
    "model.add(layers.Conv2D(32, (3, 3), activation='relu', input_shape=(48, 48, 1)))\n",
    "model.add(layers.MaxPooling2D((2, 2)))\n",
    "model.add(layers.Conv2D(64, (3, 3), activation='relu'))\n",
    "model.add(layers.MaxPooling2D((2, 2)))\n",
    "model.add(layers.Conv2D(128, (3, 3), activation='relu'))\n",
    "model.add(layers.MaxPooling2D((2, 2)))\n",
    "\n",
    "# add dense Layers \n",
    "model.add(layers.Flatten())\n",
    "model.add(layers.Dense(128, activation='relu'))\n",
    "model.add(layers.Dense(7, activation='softmax')) # 7 Emotionen (softmax für mehrere klassen gut)\n",
    "\n",
    "model.summary()"
   ]
  },
  {
   "cell_type": "code",
   "execution_count": null,
   "id": "ac300d2b",
   "metadata": {},
   "outputs": [],
   "source": [
    "# Compiling model (early stopping from: https://keras.io/api/callbacks/early_stopping/)\n",
    "model.compile(optimizer='adam',\n",
    "             loss='sparse_categorical_crossentropy',\n",
    "             metrics=['accuracy'])\n",
    "\n",
    "# Early Stopping - avoids overfitting\n",
    "early_stopping = callbacks.EarlyStopping(monitor='val_loss', patience=5, restore_best_weights=True)\n",
    "\n",
    "# training model\n",
    "history = model.fit(X_train, y_train,\n",
    "                   epochs=20,\n",
    "                   validation_data= (X_val, y_val),\n",
    "                   callbacks=[early_stopping])\n",
    "\n",
    "# Evaluation\n",
    "test_loss, test_acc = model.evaluate(X_test, y_test)\n",
    "print(f'Test accuracy: {test_acc}')\n",
    "\n",
    "# Plotting Training history\n",
    "plt.plot(history.history['accuracy'], label='accuracy')\n",
    "plt.plot(history.history['val_accuracy'], label='accuracy')\n",
    "plt.xlabel('Epoch')\n",
    "plt.ylabel('Accuracy')\n",
    "plt.legend(loc='lower right')\n",
    "plt.show()"
   ]
  },
  {
   "cell_type": "code",
   "execution_count": null,
   "id": "2988d2b0",
   "metadata": {},
   "outputs": [],
   "source": [
    "# Saving the model for later use\n",
    "model.save('emotion_model.h5')\n",
    "model.save('emotion_model.keras')\n"
   ]
  }
 ],
 "metadata": {
  "kernelspec": {
   "display_name": "Python 3 (ipykernel)",
   "language": "python",
   "name": "python3"
  },
  "language_info": {
   "codemirror_mode": {
    "name": "ipython",
    "version": 3
   },
   "file_extension": ".py",
   "mimetype": "text/x-python",
   "name": "python",
   "nbconvert_exporter": "python",
   "pygments_lexer": "ipython3",
   "version": "3.7.9"
  }
 },
 "nbformat": 4,
 "nbformat_minor": 5
}
