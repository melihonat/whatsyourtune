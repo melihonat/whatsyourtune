{
 "cells": [
  {
   "cell_type": "code",
   "execution_count": 1,
   "id": "7ba43b05",
   "metadata": {},
   "outputs": [],
   "source": [
    "import numpy as np\n",
    "import pandas as pd\n",
    "from sklearn.model_selection import train_test_split\n",
    "from sklearn.preprocessing import LabelEncoder\n",
    "from tensorflow.keras import layers, models, callbacks\n",
    "import matplotlib.pyplot as plt\n",
    "from tensorflow.keras.preprocessing.image import ImageDataGenerator"
   ]
  },
  {
   "cell_type": "code",
   "execution_count": 2,
   "id": "5e7a8c69",
   "metadata": {
    "scrolled": true
   },
   "outputs": [
    {
     "name": "stdout",
     "output_type": "stream",
     "text": [
      "Train set shape: (28709, 48, 48, 1), (28709,)\n",
      "Validation set shape: (3589, 48, 48, 1), (3589,)\n",
      "Test set shape: (3589, 48, 48, 1), (3589,)\n"
     ]
    }
   ],
   "source": [
    "fer2013 = 'archive/fer2013.csv'\n",
    "data = pd.read_csv(fer2013)\n",
    "\n",
    "# Bildpixel und Label extrahieren\n",
    "images = data['pixels'].tolist()\n",
    "labels = data['emotion'].tolist()\n",
    "\n",
    "# Bilderstring und Labelstring zu Numpy-Array\n",
    "images = np.array([list(map(int, pixel.split())) for pixel in images], dtype='float32') # Datentyp zu float32 wechseln, um später Normalisierung zu ermöglichen\n",
    "labels = np.array(labels)\n",
    "\n",
    "# Pixelwerte zwischen 0 und 1 mappen (normalisieren)\n",
    "images/= 255.0\n",
    "\n",
    "# Images zu (48, 48, 1 reshapen)\n",
    "images = images.reshape (-1, 48, 48, 1)\n",
    "\n",
    "# 80% train set, 10% validation set, 10% test set\n",
    "X_train, X_temp, y_train, y_temp = train_test_split(images, labels, test_size=0.2, random_state=42)\n",
    "X_val, X_test, y_val, y_test = train_test_split(X_temp, y_temp, test_size=0.5, random_state=42)\n",
    "\n",
    "print(f'Train set shape: {X_train.shape}, {y_train.shape}')\n",
    "print(f'Validation set shape: {X_val.shape}, {y_val.shape}')\n",
    "print(f'Test set shape: {X_test.shape}, {y_test.shape}')"
   ]
  },
  {
   "cell_type": "code",
   "execution_count": 3,
   "id": "14c46233",
   "metadata": {},
   "outputs": [
    {
     "name": "stdout",
     "output_type": "stream",
     "text": [
      "Model: \"sequential\"\n",
      "_________________________________________________________________\n",
      " Layer (type)                Output Shape              Param #   \n",
      "=================================================================\n",
      " conv2d (Conv2D)             (None, 46, 46, 32)        320       \n",
      "                                                                 \n",
      " max_pooling2d (MaxPooling2  (None, 23, 23, 32)        0         \n",
      " D)                                                              \n",
      "                                                                 \n",
      " conv2d_1 (Conv2D)           (None, 21, 21, 64)        18496     \n",
      "                                                                 \n",
      " max_pooling2d_1 (MaxPoolin  (None, 10, 10, 64)        0         \n",
      " g2D)                                                            \n",
      "                                                                 \n",
      " conv2d_2 (Conv2D)           (None, 8, 8, 128)         73856     \n",
      "                                                                 \n",
      " max_pooling2d_2 (MaxPoolin  (None, 4, 4, 128)         0         \n",
      " g2D)                                                            \n",
      "                                                                 \n",
      " flatten (Flatten)           (None, 2048)              0         \n",
      "                                                                 \n",
      " dense (Dense)               (None, 128)               262272    \n",
      "                                                                 \n",
      " dense_1 (Dense)             (None, 7)                 903       \n",
      "                                                                 \n",
      "=================================================================\n",
      "Total params: 355847 (1.36 MB)\n",
      "Trainable params: 355847 (1.36 MB)\n",
      "Non-trainable params: 0 (0.00 Byte)\n",
      "_________________________________________________________________\n"
     ]
    }
   ],
   "source": [
    "# Ein CNN Model definieren (Quelle: https://www.tensorflow.org/tutorials/images/cnn)\n",
    "\n",
    "model = models.Sequential()\n",
    "model.add(layers.Conv2D(32, (3, 3), activation='relu', input_shape=(48, 48, 1)))\n",
    "model.add(layers.MaxPooling2D((2, 2)))\n",
    "model.add(layers.Conv2D(64, (3, 3), activation='relu'))\n",
    "model.add(layers.MaxPooling2D((2, 2)))\n",
    "model.add(layers.Conv2D(128, (3, 3), activation='relu'))\n",
    "model.add(layers.MaxPooling2D((2, 2)))\n",
    "\n",
    "# Dense Layers hinzufügen\n",
    "model.add(layers.Flatten())\n",
    "model.add(layers.Dense(128, activation='relu'))\n",
    "model.add(layers.Dense(7, activation='softmax')) # 7 Emotionen (softmax für mehrere klassen gut)\n",
    "\n",
    "model.summary()"
   ]
  },
  {
   "cell_type": "code",
   "execution_count": 5,
   "id": "ac300d2b",
   "metadata": {},
   "outputs": [
    {
     "name": "stdout",
     "output_type": "stream",
     "text": [
      "Epoch 1/20\n",
      "898/898 [==============================] - 39s 43ms/step - loss: 1.4992 - accuracy: 0.4242 - val_loss: 1.3715 - val_accuracy: 0.4734\n",
      "Epoch 2/20\n",
      "898/898 [==============================] - 38s 42ms/step - loss: 1.3001 - accuracy: 0.5046 - val_loss: 1.3074 - val_accuracy: 0.5057\n",
      "Epoch 3/20\n",
      "898/898 [==============================] - 38s 42ms/step - loss: 1.1935 - accuracy: 0.5480 - val_loss: 1.2260 - val_accuracy: 0.5411\n",
      "Epoch 4/20\n",
      "898/898 [==============================] - 38s 42ms/step - loss: 1.1137 - accuracy: 0.5780 - val_loss: 1.1908 - val_accuracy: 0.5444\n",
      "Epoch 5/20\n",
      "898/898 [==============================] - 38s 42ms/step - loss: 1.0421 - accuracy: 0.6072 - val_loss: 1.1889 - val_accuracy: 0.5556\n",
      "Epoch 6/20\n",
      "898/898 [==============================] - 38s 42ms/step - loss: 0.9682 - accuracy: 0.6349 - val_loss: 1.1895 - val_accuracy: 0.5525\n",
      "Epoch 7/20\n",
      "898/898 [==============================] - 38s 43ms/step - loss: 0.8948 - accuracy: 0.6671 - val_loss: 1.2071 - val_accuracy: 0.5503\n",
      "Epoch 8/20\n",
      "898/898 [==============================] - 38s 43ms/step - loss: 0.8303 - accuracy: 0.6893 - val_loss: 1.1980 - val_accuracy: 0.5665\n",
      "Epoch 9/20\n",
      "898/898 [==============================] - 39s 43ms/step - loss: 0.7558 - accuracy: 0.7228 - val_loss: 1.2966 - val_accuracy: 0.5467\n",
      "Epoch 10/20\n",
      "898/898 [==============================] - 37s 41ms/step - loss: 0.6843 - accuracy: 0.7469 - val_loss: 1.3108 - val_accuracy: 0.5581\n",
      "113/113 [==============================] - 1s 13ms/step - loss: 1.1561 - accuracy: 0.5712\n",
      "Test accuracy: 0.5711897611618042\n"
     ]
    },
    {
     "data": {
      "image/png": "[encoded data removed]",
      "text/plain": [
       "<Figure size 640x480 with 1 Axes>"
      ]
     },
     "metadata": {},
     "output_type": "display_data"
    }
   ],
   "source": [
    "# Model compilen (early stopping quelle: https://keras.io/api/callbacks/early_stopping/)\n",
    "model.compile(optimizer='adam',\n",
    "             loss='sparse_categorical_crossentropy',\n",
    "             metrics=['accuracy'])\n",
    "\n",
    "# Early Stopping - verhindert Overfitting\n",
    "early_stopping = callbacks.EarlyStopping(monitor='val_loss', patience=5, restore_best_weights=True)\n",
    "\n",
    "# Modell trainen\n",
    "history = model.fit(X_train, y_train,\n",
    "                   epochs=20,\n",
    "                   validation_data= (X_val, y_val),\n",
    "                   callbacks=[early_stopping])\n",
    "\n",
    "# Evaluation\n",
    "test_loss, test_acc = model.evaluate(X_test, y_test)\n",
    "print(f'Test accuracy: {test_acc}')\n",
    "\n",
    "# Training history plotten\n",
    "plt.plot(history.history['accuracy'], label='accuracy')\n",
    "plt.plot(history.history['val_accuracy'], label='accuracy')\n",
    "plt.xlabel('Epoch')\n",
    "plt.ylabel('Accuracy')\n",
    "plt.legend(loc='lower right')\n",
    "plt.show()"
   ]
  },
  {
   "cell_type": "code",
   "execution_count": 8,
   "id": "2988d2b0",
   "metadata": {},
   "outputs": [],
   "source": [
    "# Ergebnisse sind okay, aber man kann das Model noch optimieren.\n",
    "# Hier speichern wir jetzt das trainierte Modell damit wir es später laden können.\n",
    "model.save('emotion_model.keras')\n"
   ]
  }
 ],
 "metadata": {
  "kernelspec": {
   "display_name": "Python 3 (ipykernel)",
   "language": "python",
   "name": "python3"
  },
  "language_info": {
   "codemirror_mode": {
    "name": "ipython",
    "version": 3
   },
   "file_extension": ".py",
   "mimetype": "text/x-python",
   "name": "python",
   "nbconvert_exporter": "python",
   "pygments_lexer": "ipython3",
   "version": "3.11.3"
  }
 },
 "nbformat": 4,
 "nbformat_minor": 5
}
