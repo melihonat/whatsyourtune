{
 "cells": [
  {
   "cell_type": "code",
   "execution_count": 46,
   "id": "7ba43b05",
   "metadata": {},
   "outputs": [],
   "source": [
    "import numpy as np\n",
    "import pandas as pd\n",
    "import os\n",
    "import matplotlib as plt\n",
    "from sklearn.model_selection import train_test_split"
   ]
  },
  {
   "cell_type": "code",
   "execution_count": 89,
   "id": "5e7a8c69",
   "metadata": {
    "scrolled": true
   },
   "outputs": [
    {
     "name": "stdout",
     "output_type": "stream",
     "text": [
      "(7178,)\n"
     ]
    }
   ],
   "source": [
    "fer2013 = 'archive/fer2013.csv'\n",
    "data = pd.read_csv(fer2013)\n",
    "\n",
    "# Bildpixel und Label extrahieren\n",
    "images = data['pixels'].tolist()\n",
    "labels = data['emotion'].tolist()\n",
    "\n",
    "# Bilderstring und Labelstring zu Numpy-Array\n",
    "images = np.array(images)\n",
    "labels = np.array(labels)\n",
    "\n",
    "X_train, X_test, y_train, y_test = train_test_split(images, labels, test_size=0.2, random_state=42)\n",
    "\n",
    "print(X_test.shape)"
   ]
  }
 ],
 "metadata": {
  "kernelspec": {
   "display_name": "Python 3 (ipykernel)",
   "language": "python",
   "name": "python3"
  },
  "language_info": {
   "codemirror_mode": {
    "name": "ipython",
    "version": 3
   },
   "file_extension": ".py",
   "mimetype": "text/x-python",
   "name": "python",
   "nbconvert_exporter": "python",
   "pygments_lexer": "ipython3",
   "version": "3.11.3"
  }
 },
 "nbformat": 4,
 "nbformat_minor": 5
}
