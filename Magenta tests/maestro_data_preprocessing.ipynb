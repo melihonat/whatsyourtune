{
 "cells": [
  {
   "cell_type": "code",
   "execution_count": 60,
   "id": "3a83ff0a",
   "metadata": {},
   "outputs": [],
   "source": [
    "from magenta.music import midi_io\n",
    "from magenta.music import sequences_lib\n",
    "from sklearn.model_selection import train_test_split\n",
    "import os\n",
    "import tensorflow as tf"
   ]
  },
  {
   "cell_type": "code",
   "execution_count": 61,
   "id": "cc6e3d3d",
   "metadata": {},
   "outputs": [],
   "source": [
    "# Directory paths\n",
    "maestro_path = '../archive/maestro-v3.0.0/data'\n",
    "train_output_path = '../archive/music_train_data'\n",
    "test_output_path = '../archive/music_test_data'\n",
    "\n",
    "# Create folders when nonexistent\n",
    "os.makedirs(maestro_path, exist_ok=True)\n",
    "os.makedirs(train_output_path, exist_ok=True)\n",
    "os.makedirs(test_output_path, exist_ok=True)"
   ]
  },
  {
   "cell_type": "code",
   "execution_count": 62,
   "id": "f3c40aaf",
   "metadata": {},
   "outputs": [],
   "source": [
    "def process_midi_file(midi_file_path):\n",
    "    \"\"\"\n",
    "    Verarbeitung einer MIDI-Datei und Konvertierung zu NoteSequence.\n",
    "    \n",
    "    Parameter:\n",
    "    - midi_file_path (str): Der Dateipfad zur MIDI-Datei.\n",
    "    \n",
    "    Rückgabe:\n",
    "    - NoteSequence oder None: Die verarbeitete NoteSequence wenn erfolgreich, sonst None.\n",
    "    \n",
    "    \"\"\"\n",
    "    try:\n",
    "        # open in Binary Mode ('rb') and pass with read() to avoid TypeErrors in process_maestro_dataset().\n",
    "        # midi_io.midi_to_note_sequence requires a \"bytes-like object'\n",
    "        with open(midi_file_path, 'rb') as midi_file:\n",
    "            sequence = midi_io.midi_to_note_sequence(midi_file.read())\n",
    "        return sequence\n",
    "    except Exception as e:\n",
    "        print(f\"Error processing {midi_file}: {e}\")\n",
    "        return None"
   ]
  },
  {
   "cell_type": "code",
   "execution_count": 67,
   "id": "557652d7",
   "metadata": {},
   "outputs": [],
   "source": [
    "# similar to magenta/scripts/convert_dir_to_note_sequences.py,\n",
    "# just a few tweaks to make it compatible with the maestro dataset\n",
    "\n",
    "def process_maestro_dataset(maestro_path, train_output_path, test_output_path, test_size=0.2):\n",
    "    \"\"\"\n",
    "    Verarbeitung von Dateien des Maestro Datasets, Aufteilung in Training- und Test-Sets,\n",
    "    und Speichern der verarbeiteten Daten als TFRecord-Dateien.\n",
    "    \n",
    "    Parameter:\n",
    "    - maestro_path (str): Der Ordner, der das Maestro Dataset mit Unterordnern für jedes Jahr enthält.\n",
    "    - train_output_path (str): Der Ordner, an dem die verarbeiteten Trainingsdaten gespeichert werden.\n",
    "    - test_output_path (str): Der Ordner, an dem die verarbeiteten Testdaten gespeichert werden.\n",
    "    - test_size (float): Der Anteil der Daten, die dem Test-Set zugewiesen werden (Standard ist 0.2).\n",
    "    \n",
    "    Rückgabe:\n",
    "    - None\n",
    "    \"\"\"\n",
    "    subdirectories = ['2004', '2006', '2008', '2009', '2011', '2013', '2014', '2015', '2017', '2018']\n",
    "    \n",
    "    for subdir in subdirectories:\n",
    "        subdir_path = os.path.join(maestro_path, subdir)\n",
    "        \n",
    "        if not os.path.exists(subdir_path):\n",
    "            print(f\"Directory {subdir_path} does not exist.\")\n",
    "            continue\n",
    "            \n",
    "        midi_files = [file for file in os.listdir(subdir_path) if file.endswith('.midi') or file.endswith('.mid')]\n",
    "        \n",
    "        # Train-Test-Split\n",
    "        train_files, test_files = train_test_split(midi_files, test_size=test_size, random_state=42)\n",
    "        \n",
    "        def process_and_save_files(file_list, output_path):\n",
    "            \n",
    "            for midi_file in file_list:\n",
    "                \n",
    "                midi_path = os.path.join(subdir_path, midi_file)\n",
    "                sequence = process_midi_file(midi_path)\n",
    "                \n",
    "                if sequence:\n",
    "                    \n",
    "                    sequences_lib.quantize_note_sequence(sequence, steps_per_quarter=4)\n",
    "                    output_file = os.path.join(output_path, f'{os.path.splitext(midi_file)[0]}.tfrecord')\n",
    "                    \n",
    "                    with tf.io.TFRecordWriter(output_file) as writer:\n",
    "                        writer.write(sequence.SerializeToString())\n",
    "                        \n",
    "        # Save training set\n",
    "        process_and_save_files(train_files, train_output_path)\n",
    "        \n",
    "        # Save test set\n",
    "        process_and_save_files(test_files, test_output_path)"
   ]
  },
  {
   "cell_type": "code",
   "execution_count": 66,
   "id": "585c9700",
   "metadata": {},
   "outputs": [],
   "source": [
    "process_maestro_dataset(maestro_path, train_output_path, test_output_path)"
   ]
  }
 ],
 "metadata": {
  "kernelspec": {
   "display_name": "Python 3 (ipykernel)",
   "language": "python",
   "name": "python3"
  },
  "language_info": {
   "codemirror_mode": {
    "name": "ipython",
    "version": 3
   },
   "file_extension": ".py",
   "mimetype": "text/x-python",
   "name": "python",
   "nbconvert_exporter": "python",
   "pygments_lexer": "ipython3",
   "version": "3.7.9"
  }
 },
 "nbformat": 4,
 "nbformat_minor": 5
}
